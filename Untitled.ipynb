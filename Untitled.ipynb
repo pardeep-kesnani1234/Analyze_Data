{
 "cells": [
  {
   "cell_type": "code",
   "execution_count": 3,
   "id": "sapphire-margin",
   "metadata": {},
   "outputs": [],
   "source": [
    "#!/usr/bin/env python\n",
    "# coding: utf-8\n",
    "\n",
    "import streamlit as st\n",
    "import pandas as pd\n",
    "#from sklearn.externals import joblib\n",
    "import joblib\n",
    "from pandas_profiling import ProfileReport\n",
    "import streamlit.components.v1 as components\n",
    "\n",
    "\n",
    "\n",
    "\n",
    "#INITIALIZATION OF VARIABLES\n",
    "parameter_list=['Pregnancies','Glucose','BloodPressure','SkinThickness','Insulin','BMI','DiabetesPedigreeFunction','Age']\n",
    "parameter_input_values=[]\n",
    "parameter_description=['Number of times pregnant','Plasma glucose concentration over 2 hours in an oral glucose tolerance test','Diastolic blood pressure (mm Hg)','Triceps skin fold thickness (mm)','2-Hour serum insulin (mu U/ml)','Body mass index (weight in kg/(height in m)2)','Diabetes pedigree function (a function which scores likelihood of diabetes based on family history)','Age (years)']\n",
    "parameter_default_values=['6','148','72','35','0','33.6','0.627','50','1']\n",
    "\n",
    "#CREATING INTERFACE & UI INTERACTIONS\n",
    "\n",
    "st.markdown(\"<h1 style='text-align: center; color: Black;'>Analyze Your Data \\n\\n</h1>\", unsafe_allow_html=True)\n",
    "st.markdown(\"<h4 style='text-align: center; color: Green;'>(By Just Your Excel Importing File) \\n\\n</h4>\", unsafe_allow_html=True)\n",
    "\n",
    "\n",
    "#filename = st.text_input('Enter a file path:')\n",
    "#try:\n",
    "#    with open(filename) as input:\n",
    "#        st.text(input.read())\n",
    "#except FileNotFoundError:\n",
    "#    st.error('File not found.')\n",
    "\n",
    "def get_binary_file_downloader_html(bin_file, file_label='File'):\n",
    "    with open(bin_file, 'rb') as f:\n",
    "        data = f.read()\n",
    "    bin_str = base64.b64encode(data).decode()\n",
    "    href = f'<a href=\"data:application/octet-stream;base64,{bin_str}\" download=\"{os.path.basename(bin_file)}\">Download {file_label}</a>'\n",
    "    return href\n",
    "\n",
    "\n",
    "\n",
    "uploaded_file = st.file_uploader(\"Choose a file\")\n",
    "if uploaded_file is not None:\n",
    "  df = pd.read_csv(uploaded_file)\n",
    "  st.write(df.head())\n",
    "  #st.write(uploaded_file)\n",
    "  profile = ProfileReport(df, title= \"Profiling Report by Virtual Analyst\")\n",
    "  \n",
    "  profile.to_file(\"your_report.html\")\n",
    "  \n",
    "  #HtmlFile = open(a, 'r', encoding='utf-8')\n",
    "  #source_code = a.read() \n",
    "  #print(source_code)\n",
    "  #components.html(profile)\n",
    "  #'<a href=\"data:file/csv;base64,{b64}\" download=\"myfilename.csv\">Download csv file</a>'\n",
    "\n",
    "  \n",
    "   \n",
    "    \n",
    "  print(profile)\n",
    "  #components.iframe(components.html(profile))  \n",
    "  components.html(\"<html><body><h1>Hello, World</h1></body></html>\", width=200, height=200)\n",
    "\n",
    "  #st.markdown('<a href=\"data:file/html;html{profile}\", download=\"myfilename.html\">Download html file file</a>', unsafe_allow_html=True)\n",
    "  #st.markdown(get_binary_file_downloader_html(profile, 'HTML'), unsafe_allow_html=True)\n",
    "\n",
    "\n",
    "if st.button(\"Click Here to Predict\"):\n",
    "\n",
    "    st.write('\\n','\\n')\n",
    "    prediction_value=predict(parameter_user_values)[0]\n",
    "    prediction_proba=str(round(float(predict(parameter_user_values)[1]),1)*100)+'%'\n",
    "    prediction='Positive' if float(prediction_value) >0.4 else 'Negative'\n",
    "\n",
    "    #DISPLAYING MODEL OUTPUT AND PREDICTION PROBABILITY \n",
    "    st.write('Your Diabetes Prediction is:**',prediction,' **with **',prediction_proba,'** confidence')"
   ]
  },
  {
   "cell_type": "code",
   "execution_count": 4,
   "id": "municipal-begin",
   "metadata": {},
   "outputs": [
    {
     "ename": "NameError",
     "evalue": "name 'profile' is not defined",
     "output_type": "error",
     "traceback": [
      "\u001b[1;31m---------------------------------------------------------------------------\u001b[0m",
      "\u001b[1;31mNameError\u001b[0m                                 Traceback (most recent call last)",
      "\u001b[1;32m<ipython-input-4-f9dbdb59857a>\u001b[0m in \u001b[0;36m<module>\u001b[1;34m\u001b[0m\n\u001b[1;32m----> 1\u001b[1;33m \u001b[0mprofile\u001b[0m\u001b[1;33m\u001b[0m\u001b[1;33m\u001b[0m\u001b[0m\n\u001b[0m",
      "\u001b[1;31mNameError\u001b[0m: name 'profile' is not defined"
     ]
    }
   ],
   "source": [
    "profile"
   ]
  },
  {
   "cell_type": "code",
   "execution_count": 5,
   "id": "unlike-hardware",
   "metadata": {},
   "outputs": [],
   "source": [
    "import os"
   ]
  },
  {
   "cell_type": "code",
   "execution_count": 7,
   "id": "white-violin",
   "metadata": {},
   "outputs": [
    {
     "data": {
      "text/plain": [
       "['.git',\n",
       " '.ipynb_checkpoints',\n",
       " 'Analyze_Data.py',\n",
       " 'diabeteseModel.pkl',\n",
       " 'My_First_App_Streamlit.py',\n",
       " 'Procfile',\n",
       " 'requirements.txt',\n",
       " 'rough.txt',\n",
       " 'Untitled.ipynb',\n",
       " 'your_report.html']"
      ]
     },
     "execution_count": 7,
     "metadata": {},
     "output_type": "execute_result"
    }
   ],
   "source": [
    "os.listdir()"
   ]
  },
  {
   "cell_type": "code",
   "execution_count": 8,
   "id": "republican-individual",
   "metadata": {},
   "outputs": [],
   "source": [
    "df1 = pd.read_csv('a.csv')"
   ]
  },
  {
   "cell_type": "code",
   "execution_count": 10,
   "id": "equivalent-alcohol",
   "metadata": {},
   "outputs": [
    {
     "data": {
      "text/html": [
       "<div>\n",
       "<style scoped>\n",
       "    .dataframe tbody tr th:only-of-type {\n",
       "        vertical-align: middle;\n",
       "    }\n",
       "\n",
       "    .dataframe tbody tr th {\n",
       "        vertical-align: top;\n",
       "    }\n",
       "\n",
       "    .dataframe thead th {\n",
       "        text-align: right;\n",
       "    }\n",
       "</style>\n",
       "<table border=\"1\" class=\"dataframe\">\n",
       "  <thead>\n",
       "    <tr style=\"text-align: right;\">\n",
       "      <th></th>\n",
       "      <th>Date/Time</th>\n",
       "      <th>Lat</th>\n",
       "      <th>Lon</th>\n",
       "      <th>Base</th>\n",
       "    </tr>\n",
       "  </thead>\n",
       "  <tbody>\n",
       "    <tr>\n",
       "      <th>0</th>\n",
       "      <td>09/01/2014 0:01</td>\n",
       "      <td>40.2201</td>\n",
       "      <td>-74.0021</td>\n",
       "      <td>B02512</td>\n",
       "    </tr>\n",
       "    <tr>\n",
       "      <th>1</th>\n",
       "      <td>09/01/2014 0:01</td>\n",
       "      <td>40.7500</td>\n",
       "      <td>-74.0027</td>\n",
       "      <td>B02512</td>\n",
       "    </tr>\n",
       "    <tr>\n",
       "      <th>2</th>\n",
       "      <td>09/01/2014 0:03</td>\n",
       "      <td>40.7559</td>\n",
       "      <td>-73.9864</td>\n",
       "      <td>B02512</td>\n",
       "    </tr>\n",
       "    <tr>\n",
       "      <th>3</th>\n",
       "      <td>09/01/2014 0:06</td>\n",
       "      <td>40.7450</td>\n",
       "      <td>-73.9889</td>\n",
       "      <td>B02512</td>\n",
       "    </tr>\n",
       "    <tr>\n",
       "      <th>4</th>\n",
       "      <td>09/01/2014 0:11</td>\n",
       "      <td>40.8145</td>\n",
       "      <td>-73.9444</td>\n",
       "      <td>B02512</td>\n",
       "    </tr>\n",
       "    <tr>\n",
       "      <th>...</th>\n",
       "      <td>...</td>\n",
       "      <td>...</td>\n",
       "      <td>...</td>\n",
       "      <td>...</td>\n",
       "    </tr>\n",
       "    <tr>\n",
       "      <th>94</th>\n",
       "      <td>09/01/2014 9:34</td>\n",
       "      <td>40.7894</td>\n",
       "      <td>-73.9754</td>\n",
       "      <td>B02512</td>\n",
       "    </tr>\n",
       "    <tr>\n",
       "      <th>95</th>\n",
       "      <td>09/01/2014 9:40</td>\n",
       "      <td>40.7560</td>\n",
       "      <td>-73.9734</td>\n",
       "      <td>B02512</td>\n",
       "    </tr>\n",
       "    <tr>\n",
       "      <th>96</th>\n",
       "      <td>09/01/2014 9:40</td>\n",
       "      <td>40.7654</td>\n",
       "      <td>-73.9826</td>\n",
       "      <td>B02512</td>\n",
       "    </tr>\n",
       "    <tr>\n",
       "      <th>97</th>\n",
       "      <td>09/01/2014 9:42</td>\n",
       "      <td>40.7629</td>\n",
       "      <td>-73.9815</td>\n",
       "      <td>B02512</td>\n",
       "    </tr>\n",
       "    <tr>\n",
       "      <th>98</th>\n",
       "      <td>09/01/2014 9:42</td>\n",
       "      <td>40.7587</td>\n",
       "      <td>-73.9843</td>\n",
       "      <td>B02512</td>\n",
       "    </tr>\n",
       "  </tbody>\n",
       "</table>\n",
       "<p>99 rows × 4 columns</p>\n",
       "</div>"
      ],
      "text/plain": [
       "          Date/Time      Lat      Lon    Base\n",
       "0   09/01/2014 0:01  40.2201 -74.0021  B02512\n",
       "1   09/01/2014 0:01  40.7500 -74.0027  B02512\n",
       "2   09/01/2014 0:03  40.7559 -73.9864  B02512\n",
       "3   09/01/2014 0:06  40.7450 -73.9889  B02512\n",
       "4   09/01/2014 0:11  40.8145 -73.9444  B02512\n",
       "..              ...      ...      ...     ...\n",
       "94  09/01/2014 9:34  40.7894 -73.9754  B02512\n",
       "95  09/01/2014 9:40  40.7560 -73.9734  B02512\n",
       "96  09/01/2014 9:40  40.7654 -73.9826  B02512\n",
       "97  09/01/2014 9:42  40.7629 -73.9815  B02512\n",
       "98  09/01/2014 9:42  40.7587 -73.9843  B02512\n",
       "\n",
       "[99 rows x 4 columns]"
      ]
     },
     "execution_count": 10,
     "metadata": {},
     "output_type": "execute_result"
    }
   ],
   "source": [
    "df1"
   ]
  },
  {
   "cell_type": "code",
   "execution_count": 13,
   "id": "refined-telescope",
   "metadata": {},
   "outputs": [],
   "source": [
    "profile1 = ProfileReport(df1)"
   ]
  },
  {
   "cell_type": "code",
   "execution_count": 14,
   "id": "driving-essence",
   "metadata": {},
   "outputs": [
    {
     "data": {
      "application/vnd.jupyter.widget-view+json": {
       "model_id": "b150ac28b303481e9dcab8f52f1c8bd7",
       "version_major": 2,
       "version_minor": 0
      },
      "text/plain": [
       "Summarize dataset:   0%|          | 0/17 [00:00<?, ?it/s]"
      ]
     },
     "metadata": {},
     "output_type": "display_data"
    },
    {
     "data": {
      "application/vnd.jupyter.widget-view+json": {
       "model_id": "fd13e156d62b409dbff58422142a5dc6",
       "version_major": 2,
       "version_minor": 0
      },
      "text/plain": [
       "Generate report structure:   0%|          | 0/1 [00:00<?, ?it/s]"
      ]
     },
     "metadata": {},
     "output_type": "display_data"
    },
    {
     "data": {
      "application/vnd.jupyter.widget-view+json": {
       "model_id": "eaf71f89b9e84a45803ac4f447ae62d0",
       "version_major": 2,
       "version_minor": 0
      },
      "text/plain": [
       "Render HTML:   0%|          | 0/1 [00:00<?, ?it/s]"
      ]
     },
     "metadata": {},
     "output_type": "display_data"
    },
    {
     "data": {
      "application/vnd.jupyter.widget-view+json": {
       "model_id": "1ede9dd9a6d346218dc8f0559c7bf42b",
       "version_major": 2,
       "version_minor": 0
      },
      "text/plain": [
       "Export report to file:   0%|          | 0/1 [00:00<?, ?it/s]"
      ]
     },
     "metadata": {},
     "output_type": "display_data"
    }
   ],
   "source": [
    "profile1.to_file(\"your_report.html\")"
   ]
  },
  {
   "cell_type": "code",
   "execution_count": null,
   "id": "primary-australia",
   "metadata": {},
   "outputs": [],
   "source": []
  }
 ],
 "metadata": {
  "kernelspec": {
   "display_name": "Python 3",
   "language": "python",
   "name": "python3"
  },
  "language_info": {
   "codemirror_mode": {
    "name": "ipython",
    "version": 3
   },
   "file_extension": ".py",
   "mimetype": "text/x-python",
   "name": "python",
   "nbconvert_exporter": "python",
   "pygments_lexer": "ipython3",
   "version": "3.6.12"
  }
 },
 "nbformat": 4,
 "nbformat_minor": 5
}
